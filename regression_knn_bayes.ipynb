{
 "cells": [
  {
   "cell_type": "code",
   "execution_count": 2,
   "metadata": {
    "colab": {
     "autoexec": {
      "startup": false,
      "wait_interval": 0
     }
    },
    "colab_type": "code",
    "id": "PfINOVzsdkM_"
   },
   "outputs": [],
   "source": [
    "import numpy as np\n",
    "import pandas as pd\n",
    "import matplotlib.pyplot as plt\n",
    "from mpl_toolkits import mplot3d\n",
    "from IPython.core.debugger import set_trace"
   ]
  },
  {
   "cell_type": "markdown",
   "metadata": {},
   "source": [
    "# Linear regression"
   ]
  },
  {
   "cell_type": "code",
   "execution_count": null,
   "metadata": {},
   "outputs": [],
   "source": [
    "def p(x,p):\n",
    "    return x+'^'+str(p)\n",
    "def m(x1,x2):\n",
    "    return x1+'*'+x2\n",
    "\n",
    "#a = {1:'x1',2:'x2',3:'x3',4:'x4'}\n",
    "a =['x1','x2']\n",
    "degree=4\n",
    "result=[]\n",
    "\n",
    "for i in range(1,degree+1):\n",
    "    for j in range(i+1):\n",
    "        result.append(m(p(a[0],i-j), p(a[1],j)))\n",
    "print(result)\n",
    "\n",
    "a.append('x3')\n",
    "result=[]\n",
    "\n"
   ]
  },
  {
   "cell_type": "code",
   "execution_count": null,
   "metadata": {},
   "outputs": [],
   "source": [
    "np.meshgrid(*([list(range(3))]*3))"
   ]
  },
  {
   "cell_type": "code",
   "execution_count": null,
   "metadata": {},
   "outputs": [],
   "source": [
    "def polynomial_map(iterable, r):\n",
    "    pool = tuple(iterable)\n",
    "    n = len(pool)\n",
    "    if not n and r:\n",
    "        return\n",
    "    indices = [0] * r\n",
    "    yield tuple(pool[i] for i in indices)\n",
    "    while True:\n",
    "        for i in reversed(range(r)):\n",
    "            if indices[i] != n - 1:\n",
    "                break\n",
    "        else:\n",
    "            return\n",
    "        indices[i:] = [indices[i] + 1] * (r - i)\n",
    "        yield tuple(pool[i] for i in indices)\n",
    "\n",
    "for i in polynomial_map([1,2,3],5):\n",
    "    print(i)"
   ]
  },
  {
   "cell_type": "code",
   "execution_count": null,
   "metadata": {
    "colab": {
     "autoexec": {
      "startup": false,
      "wait_interval": 0
     }
    },
    "colab_type": "code",
    "id": "PJgl_TBeHf-f"
   },
   "outputs": [],
   "source": [
    "class Regression:\n",
    "  \n",
    "  def __init__(self,eta=0.001,n_iter=100):\n",
    "    self.eta = eta\n",
    "    self.n_iter=n_iter\n",
    "    \n",
    "  def output(self,X):\n",
    "    return np.dot(X,self.w[1:]) + self.w[0]\n",
    "  \n",
    "  def train(self,X,y, polinomial=False):\n",
    "    \n",
    "    #if polinomial:\n",
    "        \n",
    "    \n",
    "    self.w = np.random.random(X.shape[1]+1)\n",
    "    self.cost=[]\n",
    "    m=X.shape[0]\n",
    "    for i in range(self.n_iter):\n",
    "      e = self.output(X) - y\n",
    "      \n",
    "      self.w[1:]-=self.eta*np.dot(e.T,X)/m\n",
    "      self.w[0]-=self.eta*e.sum()/m\n",
    "      \n",
    "      self.cost.append((e**2).sum()/(2*m))\n",
    "      \n",
    "    return self\n",
    "  \n",
    "  def predict(self,X):\n",
    "    return self.output(X)"
   ]
  },
  {
   "cell_type": "code",
   "execution_count": null,
   "metadata": {
    "colab": {
     "autoexec": {
      "startup": false,
      "wait_interval": 0
     }
    },
    "colab_type": "code",
    "id": "cRbyv8ZSIs-G"
   },
   "outputs": [],
   "source": [
    "df = pd.read_csv('https://archive.ics.uci.edu/ml/machine-learning-databases/forest-fires/forestfires.csv')"
   ]
  },
  {
   "cell_type": "code",
   "execution_count": null,
   "metadata": {
    "colab": {
     "autoexec": {
      "startup": false,
      "wait_interval": 0
     },
     "base_uri": "https://localhost:8080/",
     "height": 204
    },
    "colab_type": "code",
    "executionInfo": {
     "elapsed": 595,
     "status": "ok",
     "timestamp": 1525365646614,
     "user": {
      "displayName": "Data Analytic",
      "photoUrl": "https://lh3.googleusercontent.com/a/default-user=s128",
      "userId": "102780275060505513478"
     },
     "user_tz": -180
    },
    "id": "8Ul9ehajQqli",
    "outputId": "741e1795-2514-48fd-f4b7-9b740e2a66eb"
   },
   "outputs": [],
   "source": [
    "df.head()"
   ]
  },
  {
   "cell_type": "code",
   "execution_count": null,
   "metadata": {
    "colab": {
     "autoexec": {
      "startup": false,
      "wait_interval": 0
     },
     "base_uri": "https://localhost:8080/",
     "height": 364
    },
    "colab_type": "code",
    "executionInfo": {
     "elapsed": 1048,
     "status": "ok",
     "timestamp": 1525365650325,
     "user": {
      "displayName": "Data Analytic",
      "photoUrl": "https://lh3.googleusercontent.com/a/default-user=s128",
      "userId": "102780275060505513478"
     },
     "user_tz": -180
    },
    "id": "WHTs-8z4WeS1",
    "outputId": "683768b8-98e5-47a1-a67c-49b8be3a12eb"
   },
   "outputs": [],
   "source": [
    "df.area.hist(bins=df.area.nunique())"
   ]
  },
  {
   "cell_type": "code",
   "execution_count": null,
   "metadata": {},
   "outputs": [],
   "source": [
    "for col in df:\n",
    "  plt.scatter(x=df[col],y=df['area'])\n",
    "  plt.xlabel(col)\n",
    "  plt.ylabel('area')\n",
    "  plt.show()"
   ]
  },
  {
   "cell_type": "code",
   "execution_count": null,
   "metadata": {
    "colab": {
     "autoexec": {
      "startup": false,
      "wait_interval": 0
     },
     "base_uri": "https://localhost:8080/",
     "height": 677
    },
    "colab_type": "code",
    "executionInfo": {
     "elapsed": 1008,
     "status": "ok",
     "timestamp": 1525365791979,
     "user": {
      "displayName": "Data Analytic",
      "photoUrl": "https://lh3.googleusercontent.com/a/default-user=s128",
      "userId": "102780275060505513478"
     },
     "user_tz": -180
    },
    "id": "g3AWB1jtWvHg",
    "outputId": "27375f99-bca3-482d-9a08-eabb20c96448"
   },
   "outputs": [],
   "source": [
    "clear = df[df.area>0]\n",
    "plt.scatter(clear.temp,clear.area)\n",
    "plt.show()\n",
    "plt.scatter(clear.temp,clear.area.apply(lambda x : np.log(x)))\n",
    "plt.show()"
   ]
  },
  {
   "cell_type": "code",
   "execution_count": null,
   "metadata": {
    "colab": {
     "autoexec": {
      "startup": false,
      "wait_interval": 0
     },
     "base_uri": "https://localhost:8080/",
     "height": 71
    },
    "colab_type": "code",
    "executionInfo": {
     "elapsed": 557,
     "status": "ok",
     "timestamp": 1525367137540,
     "user": {
      "displayName": "Data Analytic",
      "photoUrl": "https://lh3.googleusercontent.com/a/default-user=s128",
      "userId": "102780275060505513478"
     },
     "user_tz": -180
    },
    "id": "QtC_ensIXEhV",
    "outputId": "d24f1157-dd85-4aca-a192-3c5c5721b252"
   },
   "outputs": [],
   "source": [
    "clear = df[df.area>0]\n",
    "X = np.reshape(clear.temp, (clear.shape[0], 1))\n",
    "y = clear.area\n",
    "model = Regression().train(X,y)"
   ]
  },
  {
   "cell_type": "code",
   "execution_count": null,
   "metadata": {
    "colab": {
     "autoexec": {
      "startup": false,
      "wait_interval": 0
     },
     "base_uri": "https://localhost:8080/",
     "height": 527
    },
    "colab_type": "code",
    "executionInfo": {
     "elapsed": 796,
     "status": "ok",
     "timestamp": 1525367138637,
     "user": {
      "displayName": "Data Analytic",
      "photoUrl": "https://lh3.googleusercontent.com/a/default-user=s128",
      "userId": "102780275060505513478"
     },
     "user_tz": -180
    },
    "id": "1H5jVcdeaulV",
    "outputId": "a15ceaee-1ec6-42b6-c38e-e101871860be"
   },
   "outputs": [],
   "source": [
    "x=np.reshape(np.linspace(0,35,300), (300,1))\n",
    "\n",
    "fig,ax = plt.subplots()\n",
    "\n",
    "ax.plot(x, model.predict(x), c='r')\n",
    "ax.scatter(clear.temp,clear.area)\n",
    "ax.set_ylabel('area')\n",
    "ax.set_xlabel('temp')\n",
    "\n",
    "plt.show()\n",
    "\n",
    "plt.plot(range(1,model.n_iter+1),model.cost)\n",
    "plt.show()"
   ]
  },
  {
   "cell_type": "code",
   "execution_count": null,
   "metadata": {
    "colab": {
     "autoexec": {
      "startup": false,
      "wait_interval": 0
     },
     "base_uri": "https://localhost:8080/",
     "height": 1135
    },
    "colab_type": "code",
    "executionInfo": {
     "elapsed": 1564,
     "status": "ok",
     "timestamp": 1525367065786,
     "user": {
      "displayName": "Data Analytic",
      "photoUrl": "https://lh3.googleusercontent.com/a/default-user=s128",
      "userId": "102780275060505513478"
     },
     "user_tz": -180
    },
    "id": "eTn9tr-sdON5",
    "outputId": "975a92f6-6370-407f-85ef-3a740a1fb4d3"
   },
   "outputs": [],
   "source": [
    "%matplotlib inline \n",
    "#notebook\n",
    "fig = plt.figure(figsize=(20,20))\n",
    "ax = plt.axes(projection='3d')\n",
    "\n",
    "ax.scatter3D(df['temp'],df['RH'],df['area'])"
   ]
  },
  {
   "cell_type": "code",
   "execution_count": null,
   "metadata": {
    "colab": {
     "autoexec": {
      "startup": false,
      "wait_interval": 0
     },
     "base_uri": "https://localhost:8080/",
     "height": 300
    },
    "colab_type": "code",
    "executionInfo": {
     "elapsed": 773,
     "status": "ok",
     "timestamp": 1525367565849,
     "user": {
      "displayName": "Data Analytic",
      "photoUrl": "https://lh3.googleusercontent.com/a/default-user=s128",
      "userId": "102780275060505513478"
     },
     "user_tz": -180
    },
    "id": "YfneNM1yoYNg",
    "outputId": "fe8a1859-ca7c-418e-9890-d545f3aad3f2"
   },
   "outputs": [],
   "source": [
    "multi_X = clear[['temp','RH']].values.reshape(clear.shape[0],2)\n",
    "multi_model = Regression(eta=0.0001,n_iter=400).train(multi_X,y)\n",
    "\n",
    "print(multi_model.w)\n",
    "plt.plot(range(1,multi_model.n_iter+1),multi_model.cost)"
   ]
  },
  {
   "cell_type": "code",
   "execution_count": null,
   "metadata": {
    "colab": {
     "autoexec": {
      "startup": false,
      "wait_interval": 0
     },
     "base_uri": "https://localhost:8080/",
     "height": 1135
    },
    "colab_type": "code",
    "executionInfo": {
     "elapsed": 3752,
     "status": "ok",
     "timestamp": 1525369570506,
     "user": {
      "displayName": "Data Analytic",
      "photoUrl": "https://lh3.googleusercontent.com/a/default-user=s128",
      "userId": "102780275060505513478"
     },
     "user_tz": -180
    },
    "id": "39xdV26S-RJE",
    "outputId": "8ffe19cb-fe42-4702-caac-1ab44c435e1f"
   },
   "outputs": [],
   "source": [
    "fig = plt.figure(figsize=(20,20))\n",
    "ax = plt.axes(projection='3d')\n",
    "ax.scatter3D(df['temp'],df['RH'],df['area'])\n",
    "\n",
    "xs,ys = np.meshgrid(np.linspace(0,30,300),np.linspace(0,100,1000))\n",
    "zs = lambda x,y: multi_model.w[0] + multi_model.w[1]*x + multi_model.w[2]*y\n",
    "\n",
    "ax.plot_surface(xs,ys,zs(xs,ys), color='green', alpha=0.5)"
   ]
  },
  {
   "cell_type": "markdown",
   "metadata": {},
   "source": [
    "# Logistic regression"
   ]
  },
  {
   "cell_type": "code",
   "execution_count": null,
   "metadata": {
    "colab": {
     "autoexec": {
      "startup": false,
      "wait_interval": 0
     },
     "base_uri": "https://localhost:8080/",
     "height": 323
    },
    "colab_type": "code",
    "executionInfo": {
     "elapsed": 970,
     "status": "ok",
     "timestamp": 1525506303566,
     "user": {
      "displayName": "Data Analytic",
      "photoUrl": "https://lh3.googleusercontent.com/a/default-user=s128",
      "userId": "102780275060505513478"
     },
     "user_tz": -180
    },
    "id": "sxalr7hVKbvx",
    "outputId": "037a9ef1-8d3b-44ef-bea7-b87b466c849c"
   },
   "outputs": [],
   "source": [
    "df_iris = pd.read_csv('https://archive.ics.uci.edu/ml/machine-learning-databases/iris/iris.data', \\\n",
    "                     names=['sep_len','sep_wid','pet_len','pet_wid','type'])\n",
    "df_iris['target1'] = np.where(df_iris.type=='Iris-setosa', 1,0)\n",
    "df_iris['target2'] = np.where(df_iris.type=='Iris-versicolor', 1,0)\n",
    "df_iris['target3'] = np.where(df_iris.type=='Iris-virginica', 1,0)\n",
    "\n",
    "print(df_iris.shape)\n",
    "df_iris.head()"
   ]
  },
  {
   "cell_type": "code",
   "execution_count": null,
   "metadata": {
    "colab": {
     "autoexec": {
      "startup": false,
      "wait_interval": 0
     }
    },
    "colab_type": "code",
    "id": "D_DJE7H-VgR2"
   },
   "outputs": [],
   "source": [
    "class LogisticRegression:\n",
    "  \n",
    "  def __init__(self,eta=0.05,n_iter=100, seed=14):\n",
    "    np.random.seed(seed)\n",
    "    self.eta = eta\n",
    "    self.n_iter=n_iter\n",
    "  \n",
    "  def logit(self, X, w):\n",
    "    return 1/(1 + np.exp(-(np.dot(X,w[1:]) + w[0])))        \n",
    "   \n",
    "  def train(self,X,y):\n",
    "    m=X.shape[0]\n",
    "    self.w = np.random.random(X.shape[1]+1)\n",
    "    self.cost=[]\n",
    "    \n",
    "    for i in range(self.n_iter):\n",
    "      h = self.logit(X,self.w)\n",
    "      \n",
    "      self.w[1:]-=self.eta*np.dot((h-y).T,X)/m\n",
    "      self.w[0]-=self.eta*(h-y).sum()/m\n",
    "      \n",
    "      self.cost.append(-(y.T.dot(np.log(h))+(1-y).T.dot(np.log(1-h)))/m)\n",
    "      \n",
    "    return self\n",
    "    \n",
    "  def predict(self,X):\n",
    "    return np.where(self.logit(X, self.w)>=0.5, 1,0) "
   ]
  },
  {
   "cell_type": "code",
   "execution_count": null,
   "metadata": {},
   "outputs": [],
   "source": [
    "X_iris = df_iris.iloc[:100,:4]\n",
    "X_iris = (X_iris - X_iris.mean())/X_iris.std(ddof=0)\n",
    "\n",
    "print(X_iris.shape)\n",
    "X_iris.plot.scatter('sep_len','sep_wid')\n",
    "X_iris.plot.scatter('pet_len','pet_wid')"
   ]
  },
  {
   "cell_type": "code",
   "execution_count": null,
   "metadata": {
    "colab": {
     "autoexec": {
      "startup": false,
      "wait_interval": 0
     },
     "base_uri": "https://localhost:8080/",
     "height": 680
    },
    "colab_type": "code",
    "id": "Tt2mbQv2LeMp",
    "outputId": "1cc02346-f4e7-4221-aabd-72e9c5d5c464"
   },
   "outputs": [],
   "source": [
    "model_logit = LogisticRegression(eta=0.4, n_iter=200).train(X_iris,df_iris.iloc[:100,-3])\n",
    "print(model_logit.w)\n",
    "print(model_logit.cost[-10:-1])\n",
    "plt.plot(range(model_logit.n_iter),model_logit.cost)"
   ]
  },
  {
   "cell_type": "code",
   "execution_count": null,
   "metadata": {
    "colab": {
     "autoexec": {
      "startup": false,
      "wait_interval": 0
     },
     "base_uri": "https://localhost:8080/",
     "height": 1693
    },
    "colab_type": "code",
    "executionInfo": {
     "elapsed": 59796,
     "status": "error",
     "timestamp": 1525507373034,
     "user": {
      "displayName": "Data Analytic",
      "photoUrl": "https://lh3.googleusercontent.com/a/default-user=s128",
      "userId": "102780275060505513478"
     },
     "user_tz": -180
    },
    "id": "qqxMQTHCMJdg",
    "outputId": "1e415d1e-a8cb-48ad-9b62-646faa881b00"
   },
   "outputs": [],
   "source": [
    "classified_x = X_iris.iloc[:,:].values\n",
    "classified_target = model_logit.predict(classified_x)\n",
    "\n",
    "a = classified_x[classified_target == 0]\n",
    "plt.scatter(a[:,0],a[:,1], c='r')\n",
    "\n",
    "b = classified_x[classified_target == 1]\n",
    "plt.scatter(b[:,0],b[:,1], c='b')\n",
    "\n",
    "plt.show()\n",
    "\n",
    "c = classified_x[classified_target == 0]\n",
    "plt.scatter(a[:,2],a[:,3], c='r')\n",
    "\n",
    "d = classified_x[classified_target == 1]\n",
    "plt.scatter(b[:,2],b[:,3], c='b')\n",
    "\n",
    "plt.show()"
   ]
  },
  {
   "cell_type": "markdown",
   "metadata": {},
   "source": [
    "# Multiclass regression"
   ]
  },
  {
   "cell_type": "code",
   "execution_count": null,
   "metadata": {},
   "outputs": [],
   "source": [
    "class MulticlassRegression(LogisticRegression):\n",
    "    \n",
    "    def __init__(self,eta=0.01,n_iter=100):\n",
    "        super().__init__(eta,n_iter)\n",
    "    \n",
    "    def train(self, X,y, *args):\n",
    "        super().train(X,y)\n",
    "        self._w = [self.w]\n",
    "        self._cost = [self.cost]\n",
    "        \n",
    "        for i in range(0,len(args),2):\n",
    "            super().train(args[i], args[i+1])\n",
    "            self._w.append(self.w)\n",
    "            self._cost.append(self.cost)\n",
    "            \n",
    "        self.w = np.array(self._w)\n",
    "        self.cost = np.array(self._cost)\n",
    "                \n",
    "        return self\n",
    "               \n",
    "    def predict(self, X):      \n",
    "        y = []\n",
    "        for w in self.w:\n",
    "            y.append(super().logit(X, w))\n",
    "        y = np.array(y)\n",
    "        return (y == y.max(axis=0, keepdims=1)).astype(int)"
   ]
  },
  {
   "cell_type": "code",
   "execution_count": null,
   "metadata": {},
   "outputs": [],
   "source": [
    "model_multi_logit = MulticlassRegression(eta=0.05, n_iter=200) \\\n",
    "    .train( \\\n",
    "           df_iris.iloc[:,:4], df_iris.iloc[:,-3], \\\n",
    "           df_iris.iloc[:,:4], df_iris.iloc[:,-2], \\\n",
    "           df_iris.iloc[:,:4], df_iris.iloc[:,-1], \\\n",
    "          )"
   ]
  },
  {
   "cell_type": "code",
   "execution_count": null,
   "metadata": {},
   "outputs": [],
   "source": [
    "for i in [0,1,2]:\n",
    "    print(model_multi_logit.w[i])\n",
    "    print(model_multi_logit.cost[i][-10:-1])\n",
    "\n",
    "for cost,label in zip(np.array(model_multi_logit.cost), ['setosa','versicolor','virginica']):\n",
    "    plt.plot(range(model_multi_logit.n_iter), cost, label=label)\n",
    "    plt.legend()    "
   ]
  },
  {
   "cell_type": "code",
   "execution_count": null,
   "metadata": {},
   "outputs": [],
   "source": [
    "print(df_iris.columns)\n",
    "\n",
    "multi_iris_x = df_iris.iloc[:,:4].values\n",
    "classes = model_multi_logit.predict(df_iris.iloc[:,:4].values)\n",
    "colors = ['r','b','g']\n",
    "labels = ['setosa','versicolor','virginica']\n",
    "\n",
    "\n",
    "for c, i in zip(np.array(classes), [0,1,2]):    \n",
    "    a = multi_iris_x[c == 1]\n",
    "    plt.scatter(a[:,0],a[:,1], c=colors[i], label=labels[i])\n",
    "    plt.xlabel('sep_len')\n",
    "    plt.ylabel('sep_wid')\n",
    "    \n",
    "plt.legend()    \n",
    "plt.show()\n",
    "    \n",
    "for c, i in zip(np.array(classes), [0,1,2]):    \n",
    "    b = multi_iris_x[c == 1]\n",
    "    plt.scatter(b[:,2],b[:,3], c=colors[i], label=labels[i])\n",
    "    plt.xlabel('pet_len')\n",
    "    plt.ylabel('pet_wid')\n",
    "    \n",
    "plt.legend()    \n",
    "plt.show()\n",
    "\n",
    "\n",
    "for c, i in zip(np.array(classes), [0,1,2]):    \n",
    "    a = multi_iris_x[c == 1]\n",
    "    plt.scatter(a[:,0],a[:,2], c=colors[i], label=labels[i])\n",
    "    plt.xlabel('sep_len')\n",
    "    plt.ylabel('pet_len')\n",
    "    \n",
    "plt.legend()    \n",
    "plt.show()\n",
    "    \n",
    "for c, i in zip(np.array(classes), [0,1,2]):    \n",
    "    b = multi_iris_x[c == 1]\n",
    "    plt.scatter(b[:,1],b[:,3], c=colors[i], label=labels[i])\n",
    "    plt.xlabel('sep_wid')\n",
    "    plt.ylabel('pet_wid')\n",
    "    \n",
    "plt.legend()    \n",
    "plt.show()\n",
    "    "
   ]
  },
  {
   "cell_type": "markdown",
   "metadata": {},
   "source": [
    "# KNN"
   ]
  },
  {
   "cell_type": "code",
   "execution_count": null,
   "metadata": {},
   "outputs": [],
   "source": [
    "from sklearn.model_selection import train_test_split\n",
    "from sklearn import datasets\n",
    "\n",
    "df_knn = datasets.load_iris()\n",
    "X_knn = df_knn.data\n",
    "y_knn = df_knn.target\n",
    "\n",
    "X_train, X_test, y_train, y_test = train_test_split(X_knn,y_knn, test_size=0.3, random_state=43)"
   ]
  },
  {
   "cell_type": "code",
   "execution_count": null,
   "metadata": {},
   "outputs": [],
   "source": [
    "class KNN:\n",
    "\n",
    "    def fit(self, X, y, distance=lambda ins1, ins2: np.linalg.norm(ins1-ins2)):\n",
    "        self.X_train, self.y_train, self.dist = X, y, distance\n",
    "        return self\n",
    "    \n",
    "    def predict(self, X, k_number=3, verbose=False):\n",
    "        result = []\n",
    "        for x in zip(X_test):\n",
    "            idx, xnbrs = self.get_knn(x, k_number)\n",
    "            result.append(self.vote(self.y_train[idx]))\n",
    "            \n",
    "            if verbose:\n",
    "                print('\\n data: ', x, \\\n",
    "                      '\\n vote result: ', result[-1], \\\n",
    "                      '\\n nearest: ', (idx, xnbrs))\n",
    "        \n",
    "        return np.array(result)\n",
    "        \n",
    "\n",
    "    def get_knn(self, instance, k):\n",
    "        idx = np.argpartition(np.apply_along_axis(self.dist, 1, self.X_train, instance), k)[:k]\n",
    "        return idx, self.X_train[idx]\n",
    "\n",
    "    def vote(self, nbrs):\n",
    "        values = np.unique(nbrs)\n",
    "        n = dict(zip(values,np.zeros(values.shape)))\n",
    "        for i in nbrs:\n",
    "            n[i]+=1\n",
    "\n",
    "            max_value = s = 0\n",
    "        for k, v in n.items():\n",
    "            s+=v\n",
    "            if v>=max_value:\n",
    "                max_label, max_value = k, v\n",
    "\n",
    "        return [max_label, max_value/s]"
   ]
  },
  {
   "cell_type": "code",
   "execution_count": null,
   "metadata": {
    "scrolled": false
   },
   "outputs": [],
   "source": [
    "knn_classifier = KNN().fit(X_train,y_train)\n",
    "y_pred = knn_classifier.predict(X_test)\n",
    "print('# wrong classified: ',(y_pred[:,0] != y_test).sum())"
   ]
  },
  {
   "cell_type": "markdown",
   "metadata": {},
   "source": [
    "# Bayesian classifier"
   ]
  },
  {
   "cell_type": "markdown",
   "metadata": {},
   "source": [
    "### (TODO: implement vectorization)"
   ]
  },
  {
   "cell_type": "code",
   "execution_count": 3,
   "metadata": {},
   "outputs": [
    {
     "data": {
      "text/html": [
       "<div>\n",
       "<style scoped>\n",
       "    .dataframe tbody tr th:only-of-type {\n",
       "        vertical-align: middle;\n",
       "    }\n",
       "\n",
       "    .dataframe tbody tr th {\n",
       "        vertical-align: top;\n",
       "    }\n",
       "\n",
       "    .dataframe thead th {\n",
       "        text-align: right;\n",
       "    }\n",
       "</style>\n",
       "<table border=\"1\" class=\"dataframe\">\n",
       "  <thead>\n",
       "    <tr style=\"text-align: right;\">\n",
       "      <th></th>\n",
       "      <th>0</th>\n",
       "      <th>1</th>\n",
       "      <th>2</th>\n",
       "      <th>3</th>\n",
       "      <th>4</th>\n",
       "      <th>5</th>\n",
       "      <th>6</th>\n",
       "      <th>7</th>\n",
       "      <th>8</th>\n",
       "    </tr>\n",
       "  </thead>\n",
       "  <tbody>\n",
       "    <tr>\n",
       "      <th>0</th>\n",
       "      <td>6</td>\n",
       "      <td>148</td>\n",
       "      <td>72</td>\n",
       "      <td>35</td>\n",
       "      <td>0</td>\n",
       "      <td>33.6</td>\n",
       "      <td>0.627</td>\n",
       "      <td>50</td>\n",
       "      <td>1</td>\n",
       "    </tr>\n",
       "    <tr>\n",
       "      <th>1</th>\n",
       "      <td>1</td>\n",
       "      <td>85</td>\n",
       "      <td>66</td>\n",
       "      <td>29</td>\n",
       "      <td>0</td>\n",
       "      <td>26.6</td>\n",
       "      <td>0.351</td>\n",
       "      <td>31</td>\n",
       "      <td>0</td>\n",
       "    </tr>\n",
       "    <tr>\n",
       "      <th>2</th>\n",
       "      <td>8</td>\n",
       "      <td>183</td>\n",
       "      <td>64</td>\n",
       "      <td>0</td>\n",
       "      <td>0</td>\n",
       "      <td>23.3</td>\n",
       "      <td>0.672</td>\n",
       "      <td>32</td>\n",
       "      <td>1</td>\n",
       "    </tr>\n",
       "    <tr>\n",
       "      <th>3</th>\n",
       "      <td>1</td>\n",
       "      <td>89</td>\n",
       "      <td>66</td>\n",
       "      <td>23</td>\n",
       "      <td>94</td>\n",
       "      <td>28.1</td>\n",
       "      <td>0.167</td>\n",
       "      <td>21</td>\n",
       "      <td>0</td>\n",
       "    </tr>\n",
       "    <tr>\n",
       "      <th>4</th>\n",
       "      <td>0</td>\n",
       "      <td>137</td>\n",
       "      <td>40</td>\n",
       "      <td>35</td>\n",
       "      <td>168</td>\n",
       "      <td>43.1</td>\n",
       "      <td>2.288</td>\n",
       "      <td>33</td>\n",
       "      <td>1</td>\n",
       "    </tr>\n",
       "  </tbody>\n",
       "</table>\n",
       "</div>"
      ],
      "text/plain": [
       "   0    1   2   3    4     5      6   7  8\n",
       "0  6  148  72  35    0  33.6  0.627  50  1\n",
       "1  1   85  66  29    0  26.6  0.351  31  0\n",
       "2  8  183  64   0    0  23.3  0.672  32  1\n",
       "3  1   89  66  23   94  28.1  0.167  21  0\n",
       "4  0  137  40  35  168  43.1  2.288  33  1"
      ]
     },
     "execution_count": 3,
     "metadata": {},
     "output_type": "execute_result"
    }
   ],
   "source": [
    "df_bayes=pd.read_csv('https://raw.githubusercontent.com/jbrownlee/Datasets/master/pima-indians-diabetes.data.csv',\\\n",
    "            header=None)\n",
    "df_bayes.head()"
   ]
  },
  {
   "cell_type": "code",
   "execution_count": 25,
   "metadata": {},
   "outputs": [],
   "source": [
    "class NaiveBayesClassifier():\n",
    "    \n",
    "    def train(self, training_set):\n",
    "        self.model_stats = training_set.groupby(training_set.columns[-1]).agg(['mean','std'])\n",
    "        return self\n",
    "        \n",
    "    def norm(self, x,mean,std): \n",
    "        mean, std = np.array((mean,std))\n",
    "        return (1/(std*(2*np.pi)**0.5))*np.exp(-((np.array(x)-mean)**2/(2*std**2)))\n",
    "    \n",
    "    def calculate_probabilities(self, vector, stats, mean_name='mean', std_name='std'):\n",
    "        result = {} \n",
    "        \n",
    "        for label in stats.index.values:            \n",
    "            mean = stats.T.query('ilevel_1==\"'+mean_name+'\"')[label]\n",
    "            std = stats.T.query('ilevel_1==\"'+std_name+'\"')[label]\n",
    "\n",
    "            result[label]=np.sum(np.log(self.norm(vector,mean,std)), dtype=float)\n",
    "\n",
    "        return result\n",
    "    \n",
    "    def predict(self, prediction_set):\n",
    "        \n",
    "        result = pd.DataFrame(index=prediction_set.index, columns=self.model_stats.index)\n",
    "        \n",
    "        for idx, sample in prediction_set.iterrows():\n",
    "            result.loc[idx,:] = self.calculate_probabilities(sample, self.model_stats)\n",
    "        \n",
    "        return result.values.argmax(axis=1)\n",
    "    \n",
    "    def accuracy(self, predicted, actual):\n",
    "        return np.sum((predicted == actual))/len(actual)"
   ]
  },
  {
   "cell_type": "code",
   "execution_count": 5,
   "metadata": {},
   "outputs": [],
   "source": [
    "df_b_train = df_bayes.sample(frac=0.7)\n",
    "df_b_test = df_bayes.iloc[df_bayes.index.difference(df_b_train.index)]"
   ]
  },
  {
   "cell_type": "code",
   "execution_count": 26,
   "metadata": {},
   "outputs": [],
   "source": [
    "nb = NaiveBayesClassifier().train(df_b_train)"
   ]
  },
  {
   "cell_type": "code",
   "execution_count": 27,
   "metadata": {},
   "outputs": [],
   "source": [
    "nb_pred = nb.predict(df_b_test.iloc[:,:-1])"
   ]
  },
  {
   "cell_type": "code",
   "execution_count": 28,
   "metadata": {},
   "outputs": [
    {
     "data": {
      "text/plain": [
       "0.7521739130434782"
      ]
     },
     "execution_count": 28,
     "metadata": {},
     "output_type": "execute_result"
    }
   ],
   "source": [
    "nb.accuracy(nb_pred, df_b_test.iloc[:,-1])"
   ]
  },
  {
   "cell_type": "code",
   "execution_count": null,
   "metadata": {},
   "outputs": [],
   "source": []
  }
 ],
 "metadata": {
  "colab": {
   "collapsed_sections": [],
   "default_view": {},
   "name": "regression.ipynb",
   "provenance": [],
   "version": "0.3.2",
   "views": {}
  },
  "kernelspec": {
   "display_name": "Python 3",
   "language": "python",
   "name": "python3"
  },
  "language_info": {
   "codemirror_mode": {
    "name": "ipython",
    "version": 3
   },
   "file_extension": ".py",
   "mimetype": "text/x-python",
   "name": "python",
   "nbconvert_exporter": "python",
   "pygments_lexer": "ipython3",
   "version": "3.6.4"
  }
 },
 "nbformat": 4,
 "nbformat_minor": 2
}
