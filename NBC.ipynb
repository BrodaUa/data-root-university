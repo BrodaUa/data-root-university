{
 "cells": [
  {
   "cell_type": "markdown",
   "metadata": {
    "colab_type": "text",
    "id": "lti3WORYZsmK"
   },
   "source": [
    "# Naive Bayes Classifier"
   ]
  },
  {
   "cell_type": "markdown",
   "metadata": {
    "colab_type": "text",
    "id": "F86OV8dwZsmL"
   },
   "source": [
    "## 1 - Packages ##\n"
   ]
  },
  {
   "cell_type": "code",
   "execution_count": 1,
   "metadata": {
    "colab": {
     "autoexec": {
      "startup": false,
      "wait_interval": 0
     },
     "base_uri": "https://localhost:8080/",
     "height": 37
    },
    "colab_type": "code",
    "executionInfo": {
     "elapsed": 706,
     "status": "ok",
     "timestamp": 1529441023174,
     "user": {
      "displayName": "Антон Долгополов",
      "photoUrl": "https://lh3.googleusercontent.com/a/default-user=s128",
      "userId": "104796135512850004136"
     },
     "user_tz": -180
    },
    "id": "eEoj1DOwZsmM",
    "outputId": "0addda70-8fd1-4e70-d195-7a24095bf66f"
   },
   "outputs": [],
   "source": [
    "import pandas as pd\n",
    "import numpy as np\n",
    "import re"
   ]
  },
  {
   "cell_type": "markdown",
   "metadata": {
    "colab_type": "text",
    "id": "b5Wy6bYpZsmO"
   },
   "source": [
    "## 2 - Overview of the Problem set ##\n",
    "\n",
    "**Problem Statement**: given a dataset containing:\n",
    "    - a training set of m_train examples\n",
    "    - a test set of m_test examples\n",
    "    - each example is a message that belongs to a particular class: ham or spam.\n"
   ]
  },
  {
   "cell_type": "code",
   "execution_count": 2,
   "metadata": {
    "colab": {
     "autoexec": {
      "startup": false,
      "wait_interval": 0
     },
     "base_uri": "https://localhost:8080/",
     "height": 37
    },
    "colab_type": "code",
    "executionInfo": {
     "elapsed": 574,
     "status": "ok",
     "timestamp": 1529441027213,
     "user": {
      "displayName": "Антон Долгополов",
      "photoUrl": "https://lh3.googleusercontent.com/a/default-user=s128",
      "userId": "104796135512850004136"
     },
     "user_tz": -180
    },
    "id": "DtUaewx1ZsmP",
    "outputId": "04a4ea45-62ef-438f-f19a-837cbe8dc802"
   },
   "outputs": [],
   "source": [
    "# Loading the data \n",
    "\n",
    "def load_data():\n",
    "    df = pd.read_csv('http://brodaua.github.io/university-labs/spam.csv', encoding='latin-1')\n",
    "    #df = pd.read_csv('spam.csv', encoding='latin-1')\n",
    "    df_for_tests = df.head()\n",
    "    \n",
    "    idx = np.arange(df.shape[0])\n",
    "    np.random.shuffle(idx)\n",
    "\n",
    "    train_set_size = int(df.shape[0] * 0.8)\n",
    "\n",
    "    train_set = df.loc[idx[:train_set_size]]\n",
    "    test_set = df.loc[idx[train_set_size:]]\n",
    "    \n",
    "    return train_set, test_set, df_for_tests"
   ]
  },
  {
   "cell_type": "code",
   "execution_count": 3,
   "metadata": {
    "colab": {
     "autoexec": {
      "startup": false,
      "wait_interval": 0
     },
     "base_uri": "https://localhost:8080/",
     "height": 37
    },
    "colab_type": "code",
    "executionInfo": {
     "elapsed": 791,
     "status": "ok",
     "timestamp": 1529441029266,
     "user": {
      "displayName": "Антон Долгополов",
      "photoUrl": "https://lh3.googleusercontent.com/a/default-user=s128",
      "userId": "104796135512850004136"
     },
     "user_tz": -180
    },
    "id": "ae4YTbLtZsmR",
    "outputId": "00de431e-b7a7-4ead-a284-dfa7b338e721"
   },
   "outputs": [],
   "source": [
    "train_set, test_set, df_for_tests = load_data()"
   ]
  },
  {
   "cell_type": "markdown",
   "metadata": {
    "colab_type": "text",
    "id": "8fxIXA7FZsmU"
   },
   "source": [
    "## 3 - Naive Bayes Classifier\n",
    "\n",
    "This algorithm is based on Bayes' theorem: \n",
    "    $$ \\begin{equation} \\\\\n",
    "    P(A_{j}\\hspace{0.1cm}\\rvert\\hspace{0.1cm}x_{1},\\dots,x_{n}) = \\frac{P(x_{1},\\dots,x_{n}\\hspace{0.1cm}\\rvert\\hspace{0.1cm}A_{j})P(A_{j})}{P(x_{1},\\dots,x_{n})} \\\\\n",
    "  =>\n",
    "    P(A_{j})P(x_{1},\\dots,x_{n}\\hspace{0.1cm}\\rvert\\hspace{0.1cm}A_{j}) = P(A_{j}, x_{1},\\dots,x_{n})\n",
    "   = P(x_{1}\\hspace{0.1cm}\\rvert\\hspace{0.1cm}x_{2},\\dots,x_{n}, A_{j})P(x_{2}\\hspace{0.1cm}\\rvert\\hspace{0.1cm}x_{3}, \\dots ,x_{n}, A_{j})\\dots P(x_{n-1}\\hspace{0.1cm}\\rvert\\hspace{0.1cm}x_{n}, A_{j})\n",
    "   \\approx P(A_{j}) \\prod_{i=1}^{n} P(x_{i}\\hspace{0.1cm}\\rvert\\hspace{0.1cm}A_{j})\n",
    "   \\end{equation}$$\n",
    "   \n",
    "We can calculate the probability, if we know the prior probability:\n",
    "\n",
    "$$ \\begin{equation}\n",
    "    y^{*} = \\operatorname*{arg\\,max}_{j} \\big(P(A_{j}) \\prod_{i=1}^{n} P(x_{i}\\hspace{0.1cm}\\rvert\\hspace{0.1cm}A_{j})\\big)\n",
    "    \\hspace{1cm} \n",
    "    y^{*} = \\operatorname*{arg\\,max}_{j} \\big( \\ln(P(A_{j})) + \\sum_{i=1}^{n} \\ln(P(x_{i}\\hspace{0.1cm}\\rvert\\hspace{0.1cm}A_{j})) \\big)\n",
    "   \\end{equation}$$\n",
    "   \n",
    "   \n",
    "#### Laplace smoothing\n",
    "\n",
    "$$ \\begin{equation}\n",
    "    \\theta_i = \\frac{x_{i} + \\alpha}{N + \\alpha k}\n",
    "   \\end{equation}$$\n",
    "\n",
    "where the pseudocount \n",
    "$\\begin{equation}\n",
    "    \\alpha > 0\n",
    " \\end{equation}$ is the smoothing parameter (\n",
    "$\\begin{equation}\n",
    "    \\alpha = 0\n",
    " \\end{equation}$ corresponds to no smoothing)."
   ]
  },
  {
   "cell_type": "markdown",
   "metadata": {
    "colab_type": "text",
    "id": "G9mF4dTVZsmU"
   },
   "source": [
    "### 3.1 - Preprocessing the data \n",
    "\n",
    "Our data consists of different messages. Messages contain some excess symbols, which don't affect the content of the text, but add noise to the data.\n",
    "For example: \"Does not \\\\operate 66.7 after  & lt;# & gt;  or what\". \n",
    "\n",
    "Let's clean our data and leave only letters a-z, A-Z, numbers 0-9 and cast all letters to lowercase, replace double to n spaces with just one space, remove trailing spaces."
   ]
  },
  {
   "cell_type": "code",
   "execution_count": 4,
   "metadata": {
    "colab": {
     "autoexec": {
      "startup": false,
      "wait_interval": 0
     },
     "base_uri": "https://localhost:8080/",
     "height": 37
    },
    "colab_type": "code",
    "executionInfo": {
     "elapsed": 553,
     "status": "ok",
     "timestamp": 1529441033441,
     "user": {
      "displayName": "Антон Долгополов",
      "photoUrl": "https://lh3.googleusercontent.com/a/default-user=s128",
      "userId": "104796135512850004136"
     },
     "user_tz": -180
    },
    "id": "OZDyrOMZZsmV",
    "outputId": "1db48862-aa36-4201-a693-f7e0790a4076"
   },
   "outputs": [],
   "source": [
    "# Clean the data\n",
    "\n",
    "def clean_data(message):\n",
    "    \n",
    "    return re.sub('[ ]+',' ', ''.join(re.findall('[a-z0-9 ]*', message, flags=re.I | re.ASCII))).lower()"
   ]
  },
  {
   "cell_type": "code",
   "execution_count": 5,
   "metadata": {
    "colab": {
     "autoexec": {
      "startup": false,
      "wait_interval": 0
     },
     "base_uri": "https://localhost:8080/",
     "height": 34
    },
    "colab_type": "code",
    "executionInfo": {
     "elapsed": 544,
     "status": "ok",
     "timestamp": 1529441039661,
     "user": {
      "displayName": "Антон Долгополов",
      "photoUrl": "https://lh3.googleusercontent.com/a/default-user=s128",
      "userId": "104796135512850004136"
     },
     "user_tz": -180
    },
    "id": "r96K1BnlZsmX",
    "outputId": "d7846eea-e7c2-491c-b802-ae725bd05897"
   },
   "outputs": [
    {
     "name": "stdout",
     "output_type": "stream",
     "text": [
      "cleaned:  does not operate 667 after lt gt or what\n"
     ]
    }
   ],
   "source": [
    "sentence = 'Does not  \\\\operate 66.7 af\\'ter & lt;# & gt; or what'\n",
    "print('cleaned: ',clean_data(sentence))"
   ]
  },
  {
   "cell_type": "code",
   "execution_count": 6,
   "metadata": {
    "colab": {
     "autoexec": {
      "startup": false,
      "wait_interval": 0
     },
     "base_uri": "https://localhost:8080/",
     "height": 37
    },
    "colab_type": "code",
    "executionInfo": {
     "elapsed": 561,
     "status": "ok",
     "timestamp": 1529441043900,
     "user": {
      "displayName": "Антон Долгополов",
      "photoUrl": "https://lh3.googleusercontent.com/a/default-user=s128",
      "userId": "104796135512850004136"
     },
     "user_tz": -180
    },
    "id": "gEFD2wuFZsma",
    "outputId": "7a98ed00-cbdd-4d65-db5e-d601aef4f14c"
   },
   "outputs": [],
   "source": [
    "# Preparation data for model\n",
    "\n",
    "def prep_for_model(train_set, test_set):\n",
    "    train_set_x = np.array([clean_data(s[0]).split(' ') for s in train_set.iloc[:,1:].values])\n",
    "    train_set_y = train_set.iloc[:,0].values\n",
    "    test_set_x = np.array([clean_data(s[0]).split(' ') for s in test_set.iloc[:,1:].values])\n",
    "    test_set_y = test_set.iloc[:,0].values\n",
    "      \n",
    "    return train_set_x, train_set_y, test_set_x, test_set_y\n",
    "\n",
    "train_set_x, train_set_y, test_set_x, test_set_y = prep_for_model(train_set, test_set)"
   ]
  },
  {
   "cell_type": "code",
   "execution_count": 7,
   "metadata": {
    "colab": {
     "autoexec": {
      "startup": false,
      "wait_interval": 0
     },
     "base_uri": "https://localhost:8080/",
     "height": 71
    },
    "colab_type": "code",
    "executionInfo": {
     "elapsed": 534,
     "status": "ok",
     "timestamp": 1529441047758,
     "user": {
      "displayName": "Антон Долгополов",
      "photoUrl": "https://lh3.googleusercontent.com/a/default-user=s128",
      "userId": "104796135512850004136"
     },
     "user_tz": -180
    },
    "id": "bnNLInEBZsmc",
    "outputId": "aadb42ae-d316-457c-8200-af912b9d3851"
   },
   "outputs": [
    {
     "name": "stdout",
     "output_type": "stream",
     "text": [
      "ham ['go', 'until', 'jurong', 'point', 'crazy', 'available', 'only', 'in', 'bugis', 'n', 'great', 'world', 'la', 'e', 'buffet', 'cine', 'there', 'got', 'amore', 'wat']\n",
      "ham ['u', 'dun', 'say', 'so', 'early', 'hor', 'u', 'c', 'already', 'then', 'say']\n"
     ]
    }
   ],
   "source": [
    "a1, a2, b1, b2 = prep_for_model(df_for_tests.head(3), df_for_tests.tail(2))\n",
    "print(a2[0], a1[0])\n",
    "print(b2[0], b1[0])"
   ]
  },
  {
   "cell_type": "code",
   "execution_count": 8,
   "metadata": {
    "colab": {
     "autoexec": {
      "startup": false,
      "wait_interval": 0
     },
     "base_uri": "https://localhost:8080/",
     "height": 37
    },
    "colab_type": "code",
    "executionInfo": {
     "elapsed": 536,
     "status": "ok",
     "timestamp": 1529441051239,
     "user": {
      "displayName": "Антон Долгополов",
      "photoUrl": "https://lh3.googleusercontent.com/a/default-user=s128",
      "userId": "104796135512850004136"
     },
     "user_tz": -180
    },
    "id": "olXobIliZsmg",
    "outputId": "582eb2ac-1d66-445d-b084-ca12a8c5702f"
   },
   "outputs": [],
   "source": [
    "# Check words in categories\n",
    "\n",
    "def categories_words(x_train, y_train):\n",
    "    \n",
    "    all_words_list = []\n",
    "    ham_words_list = []\n",
    "    spam_words_list = []\n",
    "    \n",
    "    x_train=np.array(x_train)\n",
    "    y_train=np.array(y_train)\n",
    "    \n",
    "    all_words_list = np.concatenate(x_train)\n",
    "    spam_words_list = np.concatenate(x_train[y_train == 'spam'])\n",
    "    ham_words_list = np.concatenate(x_train[y_train == 'ham'])\n",
    "        \n",
    "    return all_words_list, ham_words_list, spam_words_list\n",
    "\n",
    "all_words_list_a1, ham_words_list_a1, spam_words_list_a1 = categories_words(a1, a2)"
   ]
  },
  {
   "cell_type": "code",
   "execution_count": 9,
   "metadata": {
    "colab": {
     "autoexec": {
      "startup": false,
      "wait_interval": 0
     },
     "base_uri": "https://localhost:8080/",
     "height": 34
    },
    "colab_type": "code",
    "executionInfo": {
     "elapsed": 519,
     "status": "ok",
     "timestamp": 1529441053566,
     "user": {
      "displayName": "Антон Долгополов",
      "photoUrl": "https://lh3.googleusercontent.com/a/default-user=s128",
      "userId": "104796135512850004136"
     },
     "user_tz": -180
    },
    "id": "zCkJB-7TZsmj",
    "outputId": "050134ec-4cb5-4e45-efee-1858e786b067"
   },
   "outputs": [
    {
     "name": "stdout",
     "output_type": "stream",
     "text": [
      "first five \"ham\" words of a1:  ['go' 'until' 'jurong' 'point' 'crazy']\n"
     ]
    }
   ],
   "source": [
    "print('first five \"ham\" words of a1: ', ham_words_list_a1[:5])"
   ]
  },
  {
   "cell_type": "markdown",
   "metadata": {
    "colab_type": "text",
    "id": "AARnBVXGZsmk"
   },
   "source": [
    "### 3.2 Model"
   ]
  },
  {
   "cell_type": "code",
   "execution_count": 42,
   "metadata": {
    "colab": {
     "autoexec": {
      "startup": false,
      "wait_interval": 0
     },
     "base_uri": "https://localhost:8080/",
     "height": 37
    },
    "colab_type": "code",
    "executionInfo": {
     "elapsed": 815,
     "status": "ok",
     "timestamp": 1529441777636,
     "user": {
      "displayName": "Антон Долгополов",
      "photoUrl": "https://lh3.googleusercontent.com/a/default-user=s128",
      "userId": "104796135512850004136"
     },
     "user_tz": -180
    },
    "id": "LO7_8FEKZsmm",
    "outputId": "475f2598-3ad9-4275-b972-d799b030a63c"
   },
   "outputs": [],
   "source": [
    "class Naive_Bayes(object):\n",
    "\n",
    "    def __init__(self, alpha):\n",
    "        self.alpha = alpha\n",
    "        \n",
    "        self.train_set_x = None\n",
    "        self.train_set_y = None\n",
    "        \n",
    "        self.all_words_list = []\n",
    "        self.ham_words_list = []\n",
    "        self.spam_words_list = []\n",
    "    \n",
    "    def estimator(self, X):\n",
    "        values, frequency = np.unique(X, return_counts=True)\n",
    "        \n",
    "        N = X.shape[0]\n",
    "        k = np.unique(self.all_words_list).shape[0]\n",
    "        \n",
    "        res = pd.DataFrame(data = frequency, index=values, columns=['frequency'])\n",
    "        return res.assign(probability = lambda x: (x+self.alpha)/(N+self.alpha*k))       \n",
    "      \n",
    "    def fit(self, train_set_x, train_set_y):\n",
    "        \n",
    "        # Generate all_words_list, ham_words_list, spam_words_list using function 'categories_words'; \n",
    "        # Calculate probability of each word in both categories\n",
    "    \n",
    "        self.all_words_list, self.ham_words_list, self.spam_words_list = categories_words(train_set_x, train_set_y)\n",
    "        \n",
    "        self.ham_words_probs = self.estimator(self.ham_words_list)\n",
    "        self.spam_words_probs = self.estimator(self.spam_words_list)\n",
    "        \n",
    "        labels, counts = np.unique(train_set_y, return_counts=True)\n",
    "        self.class_probs = {l:c/sum(counts) for l,c in zip(labels, counts)}\n",
    "        \n",
    "    def predict(self, test_set_x):\n",
    "                \n",
    "        def infer(X):\n",
    "            X = np.array(X)\n",
    "\n",
    "            spam = [self.class_probs['spam']]\n",
    "            ham = [self.class_probs['ham']]\n",
    "           \n",
    "            #unique word approach\n",
    "            ham.extend(self.ham_words_probs[np.isin(self.ham_words_probs.index, X)]['probability'].values)\n",
    "            spam.extend(self.spam_words_probs[np.isin(self.spam_words_probs.index, X)]['probability'].values)\n",
    "            \n",
    "                \n",
    "            # + repeated word approach\n",
    "            \n",
    "            X_unique, counts = np.unique(X, return_counts=True)\n",
    "            \n",
    "            h = self.ham_words_probs[np.isin(self.ham_words_probs.index, X)]['probability']\n",
    "            s = self.spam_words_probs[np.isin(self.spam_words_probs.index, X)]['probability']\n",
    "            \n",
    "            ham.extend((h*counts[np.isin(X_unique, h.index)]).values)\n",
    "            spam.extend((s*counts[np.isin(X_unique, s.index)]).values)\n",
    "            \n",
    "            return 'spam' if np.sum(np.log(spam)) > np.sum(np.log(ham)) else 'ham'\n",
    "            \n",
    "        return np.vectorize(infer)(test_set_x)    "
   ]
  },
  {
   "cell_type": "markdown",
   "metadata": {
    "colab_type": "text",
    "id": "QVU0yzP1Zsmo"
   },
   "source": [
    "## 4 - Training"
   ]
  },
  {
   "cell_type": "code",
   "execution_count": 11,
   "metadata": {
    "colab": {
     "autoexec": {
      "startup": false,
      "wait_interval": 0
     },
     "base_uri": "https://localhost:8080/",
     "height": 37
    },
    "colab_type": "code",
    "executionInfo": {
     "elapsed": 525,
     "status": "ok",
     "timestamp": 1529441062194,
     "user": {
      "displayName": "Антон Долгополов",
      "photoUrl": "https://lh3.googleusercontent.com/a/default-user=s128",
      "userId": "104796135512850004136"
     },
     "user_tz": -180
    },
    "id": "two70VtTZsmp",
    "outputId": "f73a10a9-978d-447c-849b-304b4e4961f7"
   },
   "outputs": [],
   "source": [
    "a = 1\n",
    "model = Naive_Bayes(alpha=a)\n",
    "model.fit(train_set_x, train_set_y)"
   ]
  },
  {
   "cell_type": "markdown",
   "metadata": {
    "colab_type": "text",
    "id": "MruvACv2Zsmw"
   },
   "source": [
    "## 5 - Making predictions"
   ]
  },
  {
   "cell_type": "code",
   "execution_count": 47,
   "metadata": {
    "colab": {
     "autoexec": {
      "startup": false,
      "wait_interval": 0
     },
     "base_uri": "https://localhost:8080/",
     "height": 37
    },
    "colab_type": "code",
    "executionInfo": {
     "elapsed": 828,
     "status": "ok",
     "timestamp": 1529441794741,
     "user": {
      "displayName": "Антон Долгополов",
      "photoUrl": "https://lh3.googleusercontent.com/a/default-user=s128",
      "userId": "104796135512850004136"
     },
     "user_tz": -180
    },
    "id": "0-zUCJU_Zsmy",
    "outputId": "0395a8d8-aa8d-4dae-c0f8-f08b2285de82"
   },
   "outputs": [],
   "source": [
    "y_predictions = model.predict(test_set_x)"
   ]
  },
  {
   "cell_type": "code",
   "execution_count": 46,
   "metadata": {
    "colab": {
     "autoexec": {
      "startup": false,
      "wait_interval": 0
     },
     "base_uri": "https://localhost:8080/",
     "height": 34
    },
    "colab_type": "code",
    "executionInfo": {
     "elapsed": 848,
     "status": "ok",
     "timestamp": 1529441788963,
     "user": {
      "displayName": "Антон Долгополов",
      "photoUrl": "https://lh3.googleusercontent.com/a/default-user=s128",
      "userId": "104796135512850004136"
     },
     "user_tz": -180
    },
    "id": "KBFDdUdkZsm0",
    "outputId": "a0679f51-03c0-4c5b-ec68-fbcf12b6c253"
   },
   "outputs": [
    {
     "name": "stdout",
     "output_type": "stream",
     "text": [
      "0.8717488789237668\n"
     ]
    }
   ],
   "source": [
    "actual = list(test_set_y)\n",
    "accuracy = (y_predictions == test_set_y).mean()\n",
    "print(accuracy)"
   ]
  }
 ],
 "metadata": {
  "colab": {
   "collapsed_sections": [],
   "default_view": {},
   "name": "Copy of NBC.ipynb",
   "provenance": [
    {
     "file_id": "1QFborK_7ooi1Y6fEJqQJD4xAT_wYFitj",
     "timestamp": 1527959493859
    }
   ],
   "version": "0.3.2",
   "views": {}
  },
  "kernelspec": {
   "display_name": "Python [default]",
   "language": "python",
   "name": "python3"
  },
  "language_info": {
   "codemirror_mode": {
    "name": "ipython",
    "version": 3
   },
   "file_extension": ".py",
   "mimetype": "text/x-python",
   "name": "python",
   "nbconvert_exporter": "python",
   "pygments_lexer": "ipython3",
   "version": "3.6.4"
  }
 },
 "nbformat": 4,
 "nbformat_minor": 1
}
